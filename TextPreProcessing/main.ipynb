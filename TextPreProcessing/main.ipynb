{
 "cells": [
  {
   "cell_type": "code",
   "execution_count": 8,
   "metadata": {},
   "outputs": [
    {
     "name": "stderr",
     "output_type": "stream",
     "text": [
      "[nltk_data] Downloading package stopwords to\n",
      "[nltk_data]     C:\\Users\\User\\AppData\\Roaming\\nltk_data...\n",
      "[nltk_data]   Package stopwords is already up-to-date!\n",
      "[nltk_data] Downloading package omw-1.4 to\n",
      "[nltk_data]     C:\\Users\\User\\AppData\\Roaming\\nltk_data...\n",
      "[nltk_data]   Package omw-1.4 is already up-to-date!\n"
     ]
    }
   ],
   "source": [
    "import string\n",
    "import nltk\n",
    "from nltk.corpus import stopwords\n",
    "nltk.download('stopwords') #include this when the stopwords are not downlaoded\n",
    "nltk.download('omw-1.4')\n",
    "from nltk.tokenize import word_tokenize\n",
    "from nltk.tokenize import word_tokenize\n",
    "from nltk.stem import PorterStemmer, WordNetLemmatizer\n"
   ]
  },
  {
   "attachments": {},
   "cell_type": "markdown",
   "metadata": {},
   "source": [
    "Reading the line from the file"
   ]
  },
  {
   "cell_type": "code",
   "execution_count": 2,
   "metadata": {},
   "outputs": [
    {
     "name": "stdout",
     "output_type": "stream",
     "text": [
      "I6 Used To Be An Adventurer Like You. Then I 5Took An 3Arrow To 2The Knee.\n"
     ]
    }
   ],
   "source": [
    "with open('sample.txt', 'r') as f:\n",
    "    line = f.readline()\n",
    "    print(line)"
   ]
  },
  {
   "attachments": {},
   "cell_type": "markdown",
   "metadata": {},
   "source": [
    "Change into LowerCase\n"
   ]
  },
  {
   "cell_type": "code",
   "execution_count": 3,
   "metadata": {},
   "outputs": [
    {
     "name": "stdout",
     "output_type": "stream",
     "text": [
      "i6 used to be an adventurer like you. then i 5took an 3arrow to 2the knee.\n"
     ]
    }
   ],
   "source": [
    "lowerCase = line.lower()\n",
    "print(lowerCase) "
   ]
  },
  {
   "attachments": {},
   "cell_type": "markdown",
   "metadata": {},
   "source": [
    "Remove Punctuations"
   ]
  },
  {
   "cell_type": "code",
   "execution_count": 4,
   "metadata": {},
   "outputs": [
    {
     "name": "stdout",
     "output_type": "stream",
     "text": [
      "I6 Used To Be An Adventurer Like You Then I 5Took An 3Arrow To 2The Knee\n"
     ]
    }
   ],
   "source": [
    "translator = str.maketrans(\"\",\"\",string.punctuation)\n",
    "print(line.translate(translator))"
   ]
  },
  {
   "attachments": {},
   "cell_type": "markdown",
   "metadata": {},
   "source": [
    "Remove Digits"
   ]
  },
  {
   "cell_type": "code",
   "execution_count": 5,
   "metadata": {},
   "outputs": [
    {
     "name": "stdout",
     "output_type": "stream",
     "text": [
      "I Used To Be An Adventurer Like You. Then I Took An Arrow To The Knee.\n"
     ]
    }
   ],
   "source": [
    "digit_translator = str.maketrans(\"\",\"\",string.digits)\n",
    "print(line.translate(digit_translator))"
   ]
  },
  {
   "attachments": {},
   "cell_type": "markdown",
   "metadata": {},
   "source": [
    "Remove StopWords"
   ]
  },
  {
   "cell_type": "code",
   "execution_count": 7,
   "metadata": {},
   "outputs": [
    {
     "name": "stdout",
     "output_type": "stream",
     "text": [
      "I6 Used Adventurer Like . 5Took 3Arrow 2The Knee .\n"
     ]
    }
   ],
   "source": [
    "words = word_tokenize(line)\n",
    "\n",
    "filtered = [word for word in words if word.lower() not in stopwords.words('english')]\n",
    "filtered_sentence = ' '.join(filtered)\n",
    "\n",
    "print(filtered_sentence)"
   ]
  },
  {
   "attachments": {},
   "cell_type": "markdown",
   "metadata": {},
   "source": [
    "Text Stemming and Lemmatization"
   ]
  },
  {
   "cell_type": "code",
   "execution_count": 9,
   "metadata": {},
   "outputs": [
    {
     "name": "stdout",
     "output_type": "stream",
     "text": [
      "['i6', 'use', 'to', 'be', 'an', 'adventur', 'like', 'you', '.', 'then', 'i', '5took', 'an', '3arrow', 'to', '2the', 'knee', '.']\n",
      "['I6', 'Used', 'To', 'Be', 'An', 'Adventurer', 'Like', 'You', '.', 'Then', 'I', '5Took', 'An', '3Arrow', 'To', '2The', 'Knee', '.']\n"
     ]
    }
   ],
   "source": [
    "stemmer = PorterStemmer()\n",
    "lemmatizer = WordNetLemmatizer()\n",
    "\n",
    "stemmed_words = [stemmer.stem(word) for word in words] #words from previous\n",
    "lemmatized_words = [lemmatizer.lemmatize(word) for word in words] #words from previous\n",
    "\n",
    "print(stemmed_words)\n",
    "print(lemmatized_words)"
   ]
  }
 ],
 "metadata": {
  "kernelspec": {
   "display_name": "Python 3",
   "language": "python",
   "name": "python3"
  },
  "language_info": {
   "codemirror_mode": {
    "name": "ipython",
    "version": 3
   },
   "file_extension": ".py",
   "mimetype": "text/x-python",
   "name": "python",
   "nbconvert_exporter": "python",
   "pygments_lexer": "ipython3",
   "version": "3.9.13"
  },
  "orig_nbformat": 4
 },
 "nbformat": 4,
 "nbformat_minor": 2
}
